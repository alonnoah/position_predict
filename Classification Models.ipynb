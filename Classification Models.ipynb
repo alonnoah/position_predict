{
 "cells": [
  {
   "cell_type": "code",
   "execution_count": 7,
   "id": "00b5e0ae-ee72-457f-aac7-82a3a69d5518",
   "metadata": {},
   "outputs": [],
   "source": [
    "import requests\n",
    "import numpy as np\n",
    "import pandas as pd\n",
    "from bs4 import BeautifulSoup\n",
    "from sklearn import metrics,preprocessing,svm\n",
    "from sklearn.linear_model import LogisticRegression\n",
    "from sklearn.metrics import classification_report\n",
    "from sklearn.model_selection import train_test_split\n",
    "from sklearn.naive_bayes import GaussianNB\n",
    "from sklearn.metrics import accuracy_score, precision_score, recall_score, f1_score\n",
    "import warnings\n",
    "warnings.filterwarnings('ignore')"
   ]
  },
  {
   "cell_type": "code",
   "execution_count": 8,
   "id": "12a2e884-c106-4d89-bf24-7f943e5c449b",
   "metadata": {},
   "outputs": [],
   "source": [
    "test_csv = pd.read_csv('eda_data.csv')\n",
    "x_train, x_test, y_train, y_test = train_test_split(test_csv.drop({'Player', 'Preferred Positions'}, axis=1), test_csv['Preferred Positions'], test_size=0.2)"
   ]
  },
  {
   "cell_type": "code",
   "execution_count": 9,
   "id": "3c572191-8d07-4075-b533-d97b6ebbbc9d",
   "metadata": {},
   "outputs": [
    {
     "name": "stdout",
     "output_type": "stream",
     "text": [
      "Logistic Regression PROBLEMM\n",
      "\n",
      "\n",
      "Accuracy: 0.87\n",
      "\n",
      "Confusion Matrix\n",
      "\n",
      "[[354  18   0]\n",
      " [ 26 356  41]\n",
      " [  0  49 170]]\n",
      "\n",
      "Classification Report\n",
      "\n",
      "                   precision    recall  f1-score   support\n",
      "\n",
      "Defensive players       0.93      0.95      0.94       372\n",
      "   Middle players       0.84      0.84      0.84       423\n",
      "Attacking players       0.81      0.78      0.79       219\n",
      "\n",
      "         accuracy                           0.87      1014\n",
      "        macro avg       0.86      0.86      0.86      1014\n",
      "     weighted avg       0.87      0.87      0.87      1014\n",
      "\n"
     ]
    }
   ],
   "source": [
    "\n",
    "print('Logistic Regression PROBLEMM\\n')\n",
    "clf = LogisticRegression()\n",
    "train = clf.fit(x_train, y_train)\n",
    "y_pred = train.predict(x_test)\n",
    "confusion = metrics.confusion_matrix(y_test, y_pred)\n",
    "acc = clf.score(x_test,y_test)\n",
    "print('\\nAccuracy: {:.2f}\\n'.format(acc))\n",
    "print('Confusion Matrix\\n')\n",
    "print(confusion)\n",
    "print('\\nClassification Report\\n')\n",
    "print(classification_report(y_test, y_pred, target_names=['Defensive players', 'Middle players', 'Attacking players']))"
   ]
  },
  {
   "cell_type": "code",
   "execution_count": 12,
   "id": "b73bdab0-ba2f-4e63-a5ac-35c99eb61cd2",
   "metadata": {},
   "outputs": [
    {
     "name": "stdout",
     "output_type": "stream",
     "text": [
      "SVM PROBLEM\n",
      "\n",
      "\n",
      "Accuracy of svm: 0.8747534516765286\n",
      "Confusion Matrix\n",
      "\n",
      "[[353  19   0]\n",
      " [ 23 361  39]\n",
      " [  1  45 173]]\n",
      "\n",
      "Classification Report Of SVM\n",
      "\n",
      "                   precision    recall  f1-score   support\n",
      "\n",
      "Defensive players       0.94      0.95      0.94       372\n",
      "   Middle players       0.85      0.85      0.85       423\n",
      "Attacking players       0.82      0.79      0.80       219\n",
      "\n",
      "         accuracy                           0.87      1014\n",
      "        macro avg       0.87      0.86      0.87      1014\n",
      "     weighted avg       0.87      0.87      0.87      1014\n",
      "\n"
     ]
    }
   ],
   "source": [
    "print('SVM PROBLEM\\n\\n')\n",
    "clf_svm = svm.SVC(kernel='linear')\n",
    "clf_svm.fit(x_train, y_train)\n",
    "y_pred_svm = clf_svm.predict(x_test)\n",
    "accuracy_svm = metrics.accuracy_score(y_test, y_pred_svm)\n",
    "confusion = metrics.confusion_matrix(y_test, y_pred_svm)\n",
    "print(\"Accuracy of svm:\",accuracy_svm)\n",
    "print('Confusion Matrix\\n')\n",
    "print(confusion)\n",
    "print('\\nClassification Report Of SVM\\n')\n",
    "print(classification_report(y_test, y_pred_svm, target_names=['Defensive players', 'Middle players', 'Attacking players']))"
   ]
  },
  {
   "cell_type": "code",
   "execution_count": 13,
   "id": "3824967b-6cdb-48ac-80b7-a0a1f5ae59ae",
   "metadata": {},
   "outputs": [
    {
     "name": "stdout",
     "output_type": "stream",
     "text": [
      "NAIVE BAYES PROBLEM\n",
      "\n",
      "\n",
      "Accuracy on Train data=  0.7677690029615005\n",
      "Accuracy on test data=  0.76232741617357\n",
      "Confusion Matrix\n",
      "\n",
      "[[299  73   0]\n",
      " [ 62 281  80]\n",
      " [  0  26 193]]\n",
      "\n",
      "Classification Report Of SVM\n",
      "\n",
      "                   precision    recall  f1-score   support\n",
      "\n",
      "Defensive players       0.83      0.80      0.82       372\n",
      "   Middle players       0.74      0.66      0.70       423\n",
      "Attacking players       0.71      0.88      0.78       219\n",
      "\n",
      "         accuracy                           0.76      1014\n",
      "        macro avg       0.76      0.78      0.77      1014\n",
      "     weighted avg       0.77      0.76      0.76      1014\n",
      "\n"
     ]
    }
   ],
   "source": [
    "print('NAIVE BAYES PROBLEM\\n\\n')\n",
    "clf_gau = GaussianNB()\n",
    "clf_gau.fit(x_train, y_train)\n",
    "y_pred_gau = clf_gau.predict(x_test)\n",
    "y_pred_gau_train = clf_gau.predict(x_train)\n",
    "accuracy_gau = metrics.accuracy_score(y_test,y_pred_gau)\n",
    "confusion = metrics.confusion_matrix(y_test, y_pred_gau)\n",
    "print('Accuracy on Train data= ', metrics.accuracy_score(y_true = y_train, y_pred = y_pred_gau_train))\n",
    "print('Accuracy on test data= ', metrics.accuracy_score(y_true = y_test, y_pred = y_pred_gau))\n",
    "print('Confusion Matrix\\n')\n",
    "print(confusion)\n",
    "print('\\nClassification Report Of SVM\\n')\n",
    "print(classification_report(y_test, y_pred_gau, target_names=['Defensive players', 'Middle players', 'Attacking players']))"
   ]
  },
  {
   "cell_type": "code",
   "execution_count": 20,
   "id": "2d0f203f-b27d-49b0-bb34-8a67a8b0097a",
   "metadata": {},
   "outputs": [],
   "source": [
    "test_2_csv = pd.read_csv('eda_2_data.csv')\n",
    "x_train_2, x_test_2, y_train_2, y_test_2 = train_test_split(test_2_csv.drop({'Player', 'Preferred Positions'}, axis=1), test_2_csv['Preferred Positions'], test_size=0.2)"
   ]
  },
  {
   "cell_type": "code",
   "execution_count": 21,
   "id": "dd023d86-b53d-4f44-91f0-954b0566be21",
   "metadata": {},
   "outputs": [
    {
     "name": "stdout",
     "output_type": "stream",
     "text": [
      "Logistic Regression PROBLEMM\n",
      "\n",
      "\n",
      "\n",
      "Accuracy: 0.79\n",
      "\n",
      "Confusion Matrix\n",
      "\n",
      "[[301  43   1]\n",
      " [ 46 336  53]\n",
      " [  4  64 166]]\n",
      "\n",
      "Classification Report\n",
      "\n",
      "                   precision    recall  f1-score   support\n",
      "\n",
      "Defensive players       0.86      0.87      0.86       345\n",
      "   Middle players       0.76      0.77      0.77       435\n",
      "Attacking players       0.75      0.71      0.73       234\n",
      "\n",
      "         accuracy                           0.79      1014\n",
      "        macro avg       0.79      0.78      0.79      1014\n",
      "     weighted avg       0.79      0.79      0.79      1014\n",
      "\n"
     ]
    }
   ],
   "source": [
    "print('Logistic Regression PROBLEMM\\n\\n')\n",
    "clf = LogisticRegression()\n",
    "train = clf.fit(x_train_2, y_train_2)\n",
    "y_pred = train.predict(x_test_2)\n",
    "confusion = metrics.confusion_matrix(y_test_2, y_pred)\n",
    "acc = clf.score(x_test_2, y_test_2)\n",
    "print('\\nAccuracy: {:.2f}\\n'.format(acc))\n",
    "print('Confusion Matrix\\n')\n",
    "print(confusion)\n",
    "print('\\nClassification Report\\n')\n",
    "print(classification_report(y_test_2, y_pred, target_names=['Defensive players', 'Middle players', 'Attacking players']))"
   ]
  },
  {
   "cell_type": "code",
   "execution_count": 24,
   "id": "ea8f16e0-2ae0-42f4-acb6-dba36de0c0db",
   "metadata": {},
   "outputs": [
    {
     "name": "stdout",
     "output_type": "stream",
     "text": [
      "SVM PROBLEM\n",
      "\n",
      "\n",
      "Accuracy of svm: 0.7938856015779092\n",
      "Confusion Matrix\n",
      "\n",
      "[[311  34   0]\n",
      " [ 51 336  48]\n",
      " [  6  70 158]]\n",
      "\n",
      "Classification Report Of SVM\n",
      "\n",
      "                   precision    recall  f1-score   support\n",
      "\n",
      "Defensive players       0.85      0.90      0.87       345\n",
      "   Middle players       0.76      0.77      0.77       435\n",
      "Attacking players       0.77      0.68      0.72       234\n",
      "\n",
      "         accuracy                           0.79      1014\n",
      "        macro avg       0.79      0.78      0.79      1014\n",
      "     weighted avg       0.79      0.79      0.79      1014\n",
      "\n"
     ]
    }
   ],
   "source": [
    "print('SVM PROBLEM\\n\\n')\n",
    "clf_svm = svm.SVC(kernel='linear')\n",
    "clf_svm.fit(x_train_2, y_train_2)\n",
    "y_pred_svm = clf_svm.predict(x_test_2)\n",
    "accuracy_svm = metrics.accuracy_score(y_test_2, y_pred_svm)\n",
    "confusion = metrics.confusion_matrix(y_test_2, y_pred_svm)\n",
    "print(\"Accuracy of svm:\",accuracy_svm)\n",
    "print('Confusion Matrix\\n')\n",
    "print(confusion)\n",
    "print('\\nClassification Report Of SVM\\n')\n",
    "print(classification_report(y_test_2, y_pred_svm, target_names=['Defensive players', 'Middle players', 'Attacking players']))\n"
   ]
  },
  {
   "cell_type": "code",
   "execution_count": 25,
   "id": "bbf651e4-992e-4d5b-8ad7-dd7e76a8d602",
   "metadata": {},
   "outputs": [
    {
     "name": "stdout",
     "output_type": "stream",
     "text": [
      "NAIVE BAYES PROBLEM\n",
      "\n",
      "\n",
      "Accuracy on Train data=  0.7110069101678184\n",
      "Accuracy on test data=  0.722879684418146\n",
      "Confusion Matrix\n",
      "\n",
      "[[273  71   1]\n",
      " [ 71 264 100]\n",
      " [  0  38 196]]\n",
      "\n",
      "Classification Report Of SVM\n",
      "\n",
      "                   precision    recall  f1-score   support\n",
      "\n",
      "Defensive players       0.79      0.79      0.79       345\n",
      "   Middle players       0.71      0.61      0.65       435\n",
      "Attacking players       0.66      0.84      0.74       234\n",
      "\n",
      "         accuracy                           0.72      1014\n",
      "        macro avg       0.72      0.75      0.73      1014\n",
      "     weighted avg       0.73      0.72      0.72      1014\n",
      "\n"
     ]
    }
   ],
   "source": [
    "print('NAIVE BAYES PROBLEM\\n\\n')\n",
    "clf_gau = GaussianNB()\n",
    "clf_gau.fit(x_train_2, y_train_2)\n",
    "y_pred_gau = clf_gau.predict(x_test_2)\n",
    "y_pred_gau_train = clf_gau.predict(x_train_2)\n",
    "accuracy_gau = metrics.accuracy_score(y_test_2, y_pred_gau)\n",
    "confusion = metrics.confusion_matrix(y_test_2, y_pred_gau)\n",
    "print('Accuracy on Train data= ', metrics.accuracy_score(y_true = y_train_2, y_pred = y_pred_gau_train))\n",
    "print('Accuracy on test data= ', metrics.accuracy_score(y_true = y_test_2, y_pred = y_pred_gau))\n",
    "print('Confusion Matrix\\n')\n",
    "print(confusion)\n",
    "print('\\nClassification Report Of SVM\\n')\n",
    "print(classification_report(y_test_2, y_pred_gau, target_names=['Defensive players', 'Middle players', 'Attacking players']))\n"
   ]
  },
  {
   "cell_type": "code",
   "execution_count": null,
   "id": "977c8ead-54f5-439c-9fe0-8f9328365b56",
   "metadata": {},
   "outputs": [],
   "source": []
  }
 ],
 "metadata": {
  "kernelspec": {
   "display_name": "Python 3",
   "language": "python",
   "name": "python3"
  },
  "language_info": {
   "codemirror_mode": {
    "name": "ipython",
    "version": 3
   },
   "file_extension": ".py",
   "mimetype": "text/x-python",
   "name": "python",
   "nbconvert_exporter": "python",
   "pygments_lexer": "ipython3",
   "version": "3.8.8"
  }
 },
 "nbformat": 4,
 "nbformat_minor": 5
}
