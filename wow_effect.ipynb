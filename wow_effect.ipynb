{
 "cells": [
  {
   "cell_type": "code",
   "execution_count": 14,
   "id": "f48c2ba0-e391-4184-83d7-012514349bd2",
   "metadata": {},
   "outputs": [],
   "source": [
    "import requests\n",
    "import numpy as np\n",
    "import pandas as pd\n",
    "from bs4 import BeautifulSoup\n",
    "from sklearn import metrics,preprocessing,svm\n",
    "from sklearn.linear_model import LogisticRegression\n",
    "from sklearn.metrics import classification_report\n",
    "from sklearn.model_selection import train_test_split\n",
    "from sklearn.naive_bayes import GaussianNB\n",
    "from sklearn.metrics import accuracy_score, precision_score, recall_score, f1_score\n",
    "import warnings\n",
    "warnings.filterwarnings('ignore')"
   ]
  },
  {
   "cell_type": "code",
   "execution_count": 15,
   "id": "ffebaf2e-9ac4-4e7e-8277-f52ae0b5050d",
   "metadata": {},
   "outputs": [],
   "source": [
    "player_list =[]\n",
    "ohad = {'Player': 'ohad', 'Overall Score': 80,\n",
    "                      'Height': 183, 'Weight': 96, 'Age': 23,\n",
    "                      'Preferred Foot': 0,'Ball Control': 84.0, 'Dribbling': 80.0,   # Ball_Control\n",
    "                      'Marking': 40.0, 'Slide Tackle': 24.0, 'Stand Tackle': 55.0,  # Defence\n",
    "                      'Aggression': 54.0, 'Reactions': 74.0, 'Attack Position': 63.0,  # Mental\n",
    "                      'Interceptions': 40.0, 'Vision': 90.0, 'Composure': 76.0,\n",
    "                      'Crossing': 75.0, 'Short Pass': 84.0, 'Long Pass': 70.0,  # Passing\n",
    "                      'Acceleration': 61.0, 'Stamina': 82.0, 'Strength': 69.0, 'Balance': 70.0,  # Physical\n",
    "                      'Sprint Speed': 80.0, 'Agility': 91.0, 'Jumping': 78.0,\n",
    "                      'Heading': 70.0, 'Shot Power': 76.0, 'Finishing': 75.0, 'Long Shots': 64.0,  # Shooting\n",
    "                      'Curve': 73.0 ,'Free Kick Acc': 74.0, 'Penalties': 85.0, 'Volleys': 82.0}\n",
    "alon = {'Player': 'alon', 'Overall Score': 80,\n",
    "                      'Height': 175, 'Weight': 65, 'Age': 25,\n",
    "                      'Preferred Foot': 0 ,'Ball Control': 87.0, 'Dribbling': 84.0,   # Ball_Control\n",
    "                      'Marking': 70.0, 'Slide Tackle': 50.0, 'Stand Tackle': 70.0,  # Defence\n",
    "                      'Aggression': 60.0, 'Reactions': 80.0, 'Attack Position': 63.0,  # Mental\n",
    "                      'Interceptions': 40.0, 'Vision': 90.0, 'Composure': 76.0,\n",
    "                      'Crossing': 70.0, 'Short Pass': 84.0, 'Long Pass': 75.0,  # Passing\n",
    "                      'Acceleration': 61.0, 'Stamina': 90.0, 'Strength': 80.0, 'Balance': 80.0,  # Physical\n",
    "                      'Sprint Speed': 85.0, 'Agility': 91.0, 'Jumping': 80.0,\n",
    "                      'Heading': 70.0, 'Shot Power': 70.0, 'Finishing': 70.0, 'Long Shots': 64.0,  # Shooting\n",
    "                      'Curve': 70.0 ,'Free Kick Acc': 65.0, 'Penalties': 70.0, 'Volleys': 70.0}\n",
    "\n",
    "player_list.append(ohad)\n",
    "player_list.append(alon)"
   ]
  },
  {
   "cell_type": "code",
   "execution_count": 16,
   "id": "89dd5ed0-1278-4ac0-a8ea-556d87baad43",
   "metadata": {},
   "outputs": [],
   "source": [
    "our_stats = pd.DataFrame(player_list)\n",
    "our_stats.to_csv(r'/Users/user/PycharmProjects/DataLeNetunim/wow_effect.csv', index=False)"
   ]
  },
  {
   "cell_type": "code",
   "execution_count": 22,
   "id": "8ec9bd31-5129-43cc-97e4-2cbb9b004f73",
   "metadata": {},
   "outputs": [
    {
     "data": {
      "text/html": [
       "<div>\n",
       "<style scoped>\n",
       "    .dataframe tbody tr th:only-of-type {\n",
       "        vertical-align: middle;\n",
       "    }\n",
       "\n",
       "    .dataframe tbody tr th {\n",
       "        vertical-align: top;\n",
       "    }\n",
       "\n",
       "    .dataframe thead th {\n",
       "        text-align: right;\n",
       "    }\n",
       "</style>\n",
       "<table border=\"1\" class=\"dataframe\">\n",
       "  <thead>\n",
       "    <tr style=\"text-align: right;\">\n",
       "      <th></th>\n",
       "      <th>Player</th>\n",
       "      <th>Overall Score</th>\n",
       "      <th>Height</th>\n",
       "      <th>Weight</th>\n",
       "      <th>Age</th>\n",
       "      <th>Preferred Foot</th>\n",
       "      <th>Ball Control</th>\n",
       "      <th>Dribbling</th>\n",
       "      <th>Marking</th>\n",
       "      <th>Slide Tackle</th>\n",
       "      <th>...</th>\n",
       "      <th>Agility</th>\n",
       "      <th>Jumping</th>\n",
       "      <th>Heading</th>\n",
       "      <th>Shot Power</th>\n",
       "      <th>Finishing</th>\n",
       "      <th>Long Shots</th>\n",
       "      <th>Curve</th>\n",
       "      <th>Free Kick Acc</th>\n",
       "      <th>Penalties</th>\n",
       "      <th>Volleys</th>\n",
       "    </tr>\n",
       "  </thead>\n",
       "  <tbody>\n",
       "    <tr>\n",
       "      <th>0</th>\n",
       "      <td>ohad</td>\n",
       "      <td>80</td>\n",
       "      <td>183</td>\n",
       "      <td>96</td>\n",
       "      <td>23</td>\n",
       "      <td>0</td>\n",
       "      <td>84.0</td>\n",
       "      <td>80.0</td>\n",
       "      <td>40.0</td>\n",
       "      <td>24.0</td>\n",
       "      <td>...</td>\n",
       "      <td>91.0</td>\n",
       "      <td>78.0</td>\n",
       "      <td>70.0</td>\n",
       "      <td>76.0</td>\n",
       "      <td>75.0</td>\n",
       "      <td>64.0</td>\n",
       "      <td>73.0</td>\n",
       "      <td>74.0</td>\n",
       "      <td>85.0</td>\n",
       "      <td>82.0</td>\n",
       "    </tr>\n",
       "    <tr>\n",
       "      <th>1</th>\n",
       "      <td>alon</td>\n",
       "      <td>80</td>\n",
       "      <td>175</td>\n",
       "      <td>65</td>\n",
       "      <td>25</td>\n",
       "      <td>0</td>\n",
       "      <td>87.0</td>\n",
       "      <td>84.0</td>\n",
       "      <td>70.0</td>\n",
       "      <td>50.0</td>\n",
       "      <td>...</td>\n",
       "      <td>91.0</td>\n",
       "      <td>80.0</td>\n",
       "      <td>70.0</td>\n",
       "      <td>70.0</td>\n",
       "      <td>70.0</td>\n",
       "      <td>64.0</td>\n",
       "      <td>70.0</td>\n",
       "      <td>65.0</td>\n",
       "      <td>70.0</td>\n",
       "      <td>70.0</td>\n",
       "    </tr>\n",
       "  </tbody>\n",
       "</table>\n",
       "<p>2 rows × 35 columns</p>\n",
       "</div>"
      ],
      "text/plain": [
       "  Player  Overall Score  Height  Weight  Age  Preferred Foot  Ball Control  \\\n",
       "0   ohad             80     183      96   23               0          84.0   \n",
       "1   alon             80     175      65   25               0          87.0   \n",
       "\n",
       "   Dribbling  Marking  Slide Tackle  ...  Agility  Jumping  Heading  \\\n",
       "0       80.0     40.0          24.0  ...     91.0     78.0     70.0   \n",
       "1       84.0     70.0          50.0  ...     91.0     80.0     70.0   \n",
       "\n",
       "   Shot Power  Finishing  Long Shots  Curve  Free Kick Acc  Penalties  Volleys  \n",
       "0        76.0       75.0        64.0   73.0           74.0       85.0     82.0  \n",
       "1        70.0       70.0        64.0   70.0           65.0       70.0     70.0  \n",
       "\n",
       "[2 rows x 35 columns]"
      ]
     },
     "execution_count": 22,
     "metadata": {},
     "output_type": "execute_result"
    }
   ],
   "source": [
    "our_stats = pd.read_csv(\"wow_effect.csv\")\n",
    "our_stats"
   ]
  },
  {
   "cell_type": "code",
   "execution_count": 18,
   "id": "65f9814d-477e-449a-9686-953f428094b0",
   "metadata": {},
   "outputs": [],
   "source": [
    "test_csv = pd.read_csv('eda_data.csv')\n",
    "x_train, x_test, y_train, y_test = train_test_split(test_csv.drop({'Player', 'Preferred Positions'}, axis=1), test_csv['Preferred Positions'], test_size=0.2)"
   ]
  },
  {
   "cell_type": "code",
   "execution_count": 19,
   "id": "84bfef94-eda7-40be-96d3-332bba4eaa67",
   "metadata": {},
   "outputs": [
    {
     "name": "stdout",
     "output_type": "stream",
     "text": [
      "Logistic Regression PROBLEMM\n",
      "\n",
      "\n",
      "Accuracy: 0.87\n",
      "\n",
      "Confusion Matrix\n",
      "\n",
      "[[343  23   0]\n",
      " [ 29 377  25]\n",
      " [  0  54 163]]\n",
      "\n",
      "Classification Report\n",
      "\n",
      "                   precision    recall  f1-score   support\n",
      "\n",
      "Defensive players       0.92      0.94      0.93       366\n",
      "   Middle players       0.83      0.87      0.85       431\n",
      "Attacking players       0.87      0.75      0.80       217\n",
      "\n",
      "         accuracy                           0.87      1014\n",
      "        macro avg       0.87      0.85      0.86      1014\n",
      "     weighted avg       0.87      0.87      0.87      1014\n",
      "\n"
     ]
    }
   ],
   "source": [
    "\n",
    "print('Logistic Regression PROBLEMM\\n')\n",
    "clf = LogisticRegression()\n",
    "train = clf.fit(x_train, y_train)\n",
    "y_pred = train.predict(x_test)\n",
    "confusion = metrics.confusion_matrix(y_test, y_pred)\n",
    "acc = clf.score(x_test,y_test)\n",
    "print('\\nAccuracy: {:.2f}\\n'.format(acc))\n",
    "print('Confusion Matrix\\n')\n",
    "print(confusion)\n",
    "print('\\nClassification Report\\n')\n",
    "print(classification_report(y_test, y_pred, target_names=['Defensive players', 'Middle players', 'Attacking players']))"
   ]
  },
  {
   "cell_type": "code",
   "execution_count": 23,
   "id": "951f0d9a-a043-4d21-b4e1-c828223be8e2",
   "metadata": {},
   "outputs": [
    {
     "data": {
      "text/plain": [
       "array([2, 2])"
      ]
     },
     "execution_count": 23,
     "metadata": {},
     "output_type": "execute_result"
    }
   ],
   "source": [
    "clf.predict(our_stats.drop({'Player'},axis=1))"
   ]
  },
  {
   "cell_type": "code",
   "execution_count": null,
   "id": "bb2e6a7c-9be6-4d99-91ae-419a7d5b40bf",
   "metadata": {},
   "outputs": [],
   "source": []
  }
 ],
 "metadata": {
  "kernelspec": {
   "display_name": "Python 3",
   "language": "python",
   "name": "python3"
  },
  "language_info": {
   "codemirror_mode": {
    "name": "ipython",
    "version": 3
   },
   "file_extension": ".py",
   "mimetype": "text/x-python",
   "name": "python",
   "nbconvert_exporter": "python",
   "pygments_lexer": "ipython3",
   "version": "3.8.8"
  }
 },
 "nbformat": 4,
 "nbformat_minor": 5
}
